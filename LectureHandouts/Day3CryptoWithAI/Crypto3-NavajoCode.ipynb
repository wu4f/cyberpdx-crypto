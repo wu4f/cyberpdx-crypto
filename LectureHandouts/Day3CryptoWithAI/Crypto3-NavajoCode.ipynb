{
  "cells": [
    {
      "cell_type": "markdown",
      "source": [
        "# English to Navajo code with no context"
      ],
      "metadata": {
        "id": "3YBKYRnOLNA0"
      }
    },
    {
      "cell_type": "code",
      "execution_count": null,
      "metadata": {
        "id": "FxQLWDWoEKSW"
      },
      "outputs": [],
      "source": [
        "!pip install -q langchain langchain_openai"
      ]
    },
    {
      "cell_type": "code",
      "execution_count": null,
      "metadata": {
        "id": "E6QKeLZnOlo9"
      },
      "outputs": [],
      "source": [
        "from langchain_openai import ChatOpenAI\n",
        "from langchain.prompts import ChatPromptTemplate\n",
        "\n",
        "llm = ChatOpenAI(model=\"gpt-4o\", openai_api_key=\"\")"
      ]
    },
    {
      "cell_type": "code",
      "execution_count": null,
      "metadata": {
        "id": "K4TrB64lEemc"
      },
      "outputs": [],
      "source": [
        "prompt1 = ChatPromptTemplate.from_messages(\n",
        "    [\n",
        "        (\"system\", \"Translate the message from English to Navajo code\"),\n",
        "        (\"human\", \"{message}\")\n",
        "    ]\n",
        ")\n",
        "chain1 = prompt1 | llm\n",
        "result = chain1.invoke({\"message\" : \"ATTACK AT DAWN\"})\n",
        "print(result.content)"
      ]
    },
    {
      "cell_type": "markdown",
      "source": [
        "# English to Navajo code with downloaded code book"
      ],
      "metadata": {
        "id": "uYcTVceJLVXU"
      }
    },
    {
      "cell_type": "code",
      "source": [
        "import requests\n",
        "navajo_dictionary =  requests.get('https://crypto.cyberpdx.org/static/NavajoCode.csv').text\n",
        "print(navajo_dictionary)"
      ],
      "metadata": {
        "id": "WNBGvBB-LDO8",
        "collapsed": true
      },
      "execution_count": null,
      "outputs": []
    },
    {
      "cell_type": "code",
      "source": [
        "prompt2 = ChatPromptTemplate.from_messages([\n",
        "      (\"system\", \"\"\"You are a helpful assistant that translates English words\n",
        "                      to Navajo code words using a dictionary.  The dictionary\n",
        "                      is encoded as comma-separated values where the first\n",
        "                      value is the English word and the second is the\n",
        "                      translation to Navajo code.  If a given an English word\n",
        "                      that is not in the dictionary, output the word instead.\n",
        "                      The dictionary is: {dictionary}\"\"\"),\n",
        "      (\"human\", \"{message}\") ])\n",
        "chain2 = prompt2 | llm\n",
        "result = chain2.invoke({\"message\" : \"ATTACK AT DAWN\",\n",
        "                        \"dictionary\" : navajo_dictionary})\n",
        "print(result.content)"
      ],
      "metadata": {
        "id": "BEfrr1E_LfXM"
      },
      "execution_count": null,
      "outputs": []
    },
    {
      "cell_type": "markdown",
      "source": [
        "# Navajo code to English with downloaded code book"
      ],
      "metadata": {
        "id": "9vrRxdgYLmwJ"
      }
    },
    {
      "cell_type": "code",
      "source": [
        "prompt3 = ChatPromptTemplate.from_messages([\n",
        "        (\"system\", \"\"\"You are a helpful assistant that translates Navajo code words\n",
        "                      to English using a dictionary.  The dictionary\n",
        "                      is encoded as comma-separated values where the first\n",
        "                      value is the English word and the second is the\n",
        "                      translation to Navajo code.  If a given an English word\n",
        "                      that is not in the dictionary, output the word instead.\n",
        "                      The dictionary is: {dictionary}\"\"\"),\n",
        "        (\"human\", \"{message}\") ])\n",
        "chain3 = prompt3 | llm\n",
        "result = chain3.invoke({\"message\" : \"CHA-GEE LEI-CHA-IH-YIL-KNEE-IH SEIS BE-GHA CHA-GEE TAH-BAHN\",\n",
        "                        \"dictionary\" : navajo_dictionary})\n",
        "print(result.content)"
      ],
      "metadata": {
        "id": "7cmihd_lLstI"
      },
      "execution_count": null,
      "outputs": []
    }
  ],
  "metadata": {
    "colab": {
      "provenance": []
    },
    "kernelspec": {
      "display_name": "Python 3",
      "name": "python3"
    },
    "language_info": {
      "codemirror_mode": {
        "name": "ipython",
        "version": 3
      },
      "file_extension": ".py",
      "mimetype": "text/x-python",
      "name": "python",
      "nbconvert_exporter": "python",
      "pygments_lexer": "ipython3",
      "version": "3.10.11"
    }
  },
  "nbformat": 4,
  "nbformat_minor": 0
}