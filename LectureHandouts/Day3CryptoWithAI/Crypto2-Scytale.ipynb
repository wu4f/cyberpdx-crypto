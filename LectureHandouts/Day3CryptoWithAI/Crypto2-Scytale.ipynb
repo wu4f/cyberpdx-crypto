{
  "cells": [
    {
      "cell_type": "code",
      "execution_count": null,
      "metadata": {
        "id": "FxQLWDWoEKSW"
      },
      "outputs": [],
      "source": [
        "!pip install -q langchain langchain_openai"
      ]
    },
    {
      "cell_type": "code",
      "execution_count": null,
      "metadata": {
        "id": "K4TrB64lEemc"
      },
      "outputs": [],
      "source": [
        "from langchain_openai import ChatOpenAI\n",
        "from langchain.prompts import ChatPromptTemplate\n",
        "\n",
        "llm = ChatOpenAI(model=\"gpt-4o\",\n",
        "                 openai_api_key=\"\")"
      ]
    },
    {
      "cell_type": "code",
      "source": [
        "prompt = ChatPromptTemplate.from_messages(\n",
        "    [\n",
        "        (\"system\", \"\"\" You are a helpful assistant that translates a Scytale\n",
        "                       ciphertext into its original plaintext. It's every\n",
        "                       5th character. \"\"\"\n",
        "        ),\n",
        "        (\"human\", \"{message}\")\n",
        "    ]\n",
        ")\n",
        "\n",
        "chain = prompt | llm\n",
        "\n",
        "result = chain.invoke({\"message\" : \"\"\"torsthrsaoenetokuvulemebbybneofeirx\"\"\"})\n",
        "print(result.content)"
      ],
      "metadata": {
        "id": "regjCJTnVL94"
      },
      "execution_count": null,
      "outputs": []
    }
  ],
  "metadata": {
    "colab": {
      "provenance": []
    },
    "kernelspec": {
      "display_name": "Python 3",
      "name": "python3"
    },
    "language_info": {
      "codemirror_mode": {
        "name": "ipython",
        "version": 3
      },
      "file_extension": ".py",
      "mimetype": "text/x-python",
      "name": "python",
      "nbconvert_exporter": "python",
      "pygments_lexer": "ipython3",
      "version": "3.10.11"
    }
  },
  "nbformat": 4,
  "nbformat_minor": 0
}