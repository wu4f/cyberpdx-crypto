{
  "cells": [
    {
      "cell_type": "code",
      "execution_count": null,
      "metadata": {
        "id": "FxQLWDWoEKSW"
      },
      "outputs": [],
      "source": [
        "!pip install -q langchain langchain_openai langchain_experimental langchainhub"
      ]
    },
    {
      "cell_type": "code",
      "execution_count": null,
      "metadata": {
        "id": "TdpXm45oOlo9"
      },
      "outputs": [],
      "source": [
        "from langchain_openai import ChatOpenAI\n",
        "from langchain import hub\n",
        "from langchain.agents import create_react_agent\n",
        "from langchain.agents import AgentExecutor\n",
        "from langchain_experimental.tools import PythonREPLTool\n",
        "\n",
        "llm = ChatOpenAI(model=\"gpt-4o\", openai_api_key=\"\")\n"
      ]
    },
    {
      "cell_type": "code",
      "source": [
        "tools = [PythonREPLTool()]\n",
        "instructions = \"\"\"You are an agent designed to write and execute Python code\n",
        "to answer questions.  You have access to a Python REPL, which you can use to\n",
        "execute Python code. If you get an error, debug your code and try again.  Only\n",
        "use the output of your code to answer the question.  You might know the answer\n",
        "without running any code, but you should still run the code to get the answer.\n",
        "If it does not seem like you can write code to answer  the question, just\n",
        "return \"I don't know\" as the answer.\n",
        "\"\"\"\n",
        "base_prompt = hub.pull(\"langchain-ai/react-agent-template\")\n",
        "prompt = base_prompt.partial(instructions=instructions)\n",
        "agent = create_react_agent(llm, tools, prompt)\n",
        "agent_executor = AgentExecutor(agent=agent, tools=tools, verbose=True)"
      ],
      "metadata": {
        "id": "PzAZHps366ML"
      },
      "execution_count": null,
      "outputs": []
    },
    {
      "cell_type": "code",
      "execution_count": null,
      "metadata": {
        "id": "E6QKeLZnOlo9"
      },
      "outputs": [],
      "source": [
        "result = agent_executor.invoke(\n",
        "          {\"input\": \"\"\"What is the ASCII representation for the string\n",
        "                      'Hello World!' in hexadecimal?\"\"\"}\n",
        "          )\n",
        "print(result['output'])"
      ]
    },
    {
      "cell_type": "code",
      "source": [
        "result = agent_executor.invoke({\"input\": \"Emulate rolling a 6-sided die\"})\n",
        "print(result['output'])"
      ],
      "metadata": {
        "id": "XYMtQa4B60jk"
      },
      "execution_count": null,
      "outputs": []
    }
  ],
  "metadata": {
    "colab": {
      "provenance": []
    },
    "kernelspec": {
      "display_name": "Python 3",
      "name": "python3"
    },
    "language_info": {
      "codemirror_mode": {
        "name": "ipython",
        "version": 3
      },
      "file_extension": ".py",
      "mimetype": "text/x-python",
      "name": "python",
      "nbconvert_exporter": "python",
      "pygments_lexer": "ipython3",
      "version": "3.10.11"
    }
  },
  "nbformat": 4,
  "nbformat_minor": 0
}