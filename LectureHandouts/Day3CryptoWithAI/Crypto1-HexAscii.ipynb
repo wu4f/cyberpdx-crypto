{
  "cells": [
    {
      "cell_type": "markdown",
      "source": [
        "# String to ASCII (hexadecimal and binary)"
      ],
      "metadata": {
        "id": "EM_JqhWFTxa4"
      }
    },
    {
      "cell_type": "code",
      "execution_count": null,
      "metadata": {
        "id": "FxQLWDWoEKSW"
      },
      "outputs": [],
      "source": [
        "!pip install -q langchain langchain_openai"
      ]
    },
    {
      "cell_type": "code",
      "execution_count": null,
      "metadata": {
        "id": "TdpXm45oOlo9"
      },
      "outputs": [],
      "source": [
        "from langchain.prompts import ChatPromptTemplate\n",
        "from langchain_openai import ChatOpenAI\n",
        "\n",
        "llm = ChatOpenAI(model=\"gpt-4o\", openai_api_key=\"\")"
      ]
    },
    {
      "cell_type": "code",
      "execution_count": null,
      "metadata": {
        "id": "E6QKeLZnOlo9"
      },
      "outputs": [],
      "source": [
        "prompt = ChatPromptTemplate.from_messages([\n",
        "        (\"system\", \"\"\"You are a helpful assistant that converts the given\n",
        "                      message into its ASCII hexadecimal and binary forms.\"\"\"\n",
        "        ),\n",
        "        (\"human\", \"{message}\")\n",
        "    ])\n",
        "\n",
        "chain = prompt | llm\n",
        "\n",
        "result = chain.invoke({\"message\" : \"\"\"Haha true\"\"\"})\n",
        "print(result.content)"
      ]
    },
    {
      "cell_type": "markdown",
      "source": [
        "# Hex-encoded ASCII back to characters"
      ],
      "metadata": {
        "id": "LOWj3MiJUHWI"
      }
    },
    {
      "cell_type": "code",
      "execution_count": null,
      "metadata": {
        "id": "K4TrB64lEemc"
      },
      "outputs": [],
      "source": [
        "prompt = ChatPromptTemplate.from_messages(\n",
        "    [\n",
        "        (\"system\", \"\"\" Decode the given hexadecimal-encoded ASCII into\n",
        "                       characters.  Make sure to print an error if the\n",
        "                       input is not hexadecimal. \"\"\"\n",
        "        ),\n",
        "        (\"human\", \"{message}\")\n",
        "    ]\n",
        ")\n",
        "\n",
        "chain = prompt | llm"
      ]
    },
    {
      "cell_type": "code",
      "execution_count": null,
      "metadata": {
        "id": "-FVT7x5KOlo-"
      },
      "outputs": [],
      "source": [
        "result = chain.invoke({\"message\" : \"\"\"41 20 6d 69 73 74 61 6b 65 20 73 68 6f\n",
        "                                      75 6c 64 20 62 65 20 79 6f 75 72 20 74\n",
        "                                      65 61 63 68 65 72 2c 20 6e 6f 74 20 79\n",
        "                                      6f 75 72 20 61 74 74 61 63 6b 65 72 20\n",
        "                                      2d 20 41 6e 6f 6e 79 6d 6f 75 73\"\"\"})\n",
        "print(result.content)"
      ]
    },
    {
      "cell_type": "code",
      "execution_count": null,
      "metadata": {
        "id": "bu1JCxBmOlo_"
      },
      "outputs": [],
      "source": [
        "result = chain.invoke({\"message\" : \"\"\"49 74 20 64 6f 65 73 20 6e 6f 74 20 72\n",
        "                                      65 71 75 69 72 65 20 6d 61 6e 79 20 77\n",
        "                                      6f 72 64 73 20 74 6f 20 73 70 65 61 6b\n",
        "                                      20 74 68 65 20 74 72 75 74 68 20 2d 20\n",
        "                                      43 68 69 65 66 20 4a 6f 73 65 70 68\"\"\"})\n",
        "print(result.content)"
      ]
    },
    {
      "cell_type": "code",
      "execution_count": null,
      "metadata": {
        "id": "61EGBNPqOlo_"
      },
      "outputs": [],
      "source": [
        "result = chain.invoke({\"message\" : \"\"\"This is not a hex-encoded string of bytes\"\"\"})\n",
        "print(result.content)"
      ]
    }
  ],
  "metadata": {
    "colab": {
      "provenance": []
    },
    "kernelspec": {
      "display_name": "Python 3",
      "name": "python3"
    },
    "language_info": {
      "codemirror_mode": {
        "name": "ipython",
        "version": 3
      },
      "file_extension": ".py",
      "mimetype": "text/x-python",
      "name": "python",
      "nbconvert_exporter": "python",
      "pygments_lexer": "ipython3",
      "version": "3.10.11"
    }
  },
  "nbformat": 4,
  "nbformat_minor": 0
}